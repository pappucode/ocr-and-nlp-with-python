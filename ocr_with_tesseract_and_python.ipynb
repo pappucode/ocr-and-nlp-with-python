{
 "cells": [
  {
   "cell_type": "markdown",
   "id": "42921f61",
   "metadata": {},
   "source": [
    "### Text recognition (OCR) with Tesseract and Python"
   ]
  },
  {
   "cell_type": "markdown",
   "id": "422c4993",
   "metadata": {},
   "source": [
    "###### Install opercv and pytesseract"
   ]
  },
  {
   "cell_type": "code",
   "execution_count": 1,
   "id": "a58f60f7",
   "metadata": {},
   "outputs": [],
   "source": [
    "# pip install opencv-python\n",
    "# pip install pytesseract"
   ]
  },
  {
   "cell_type": "code",
   "execution_count": 4,
   "id": "0de02bd6",
   "metadata": {},
   "outputs": [],
   "source": [
    "import cv2\n",
    "import numpy as np\n",
    "import pytesseract"
   ]
  },
  {
   "cell_type": "code",
   "execution_count": 5,
   "id": "bcea166a",
   "metadata": {},
   "outputs": [],
   "source": [
    "# indicate where the tesseract engine is being installed\n",
    "pytesseract.pytesseract.tesseract_cmd = r\"C:\\Program Files\\Tesseract-OCR\\tesseract.exe\""
   ]
  },
  {
   "cell_type": "code",
   "execution_count": 6,
   "id": "cba29f6c",
   "metadata": {},
   "outputs": [],
   "source": [
    "# Read the image\n",
    "img = cv2.imread(\"bigsleep.jpg\")"
   ]
  },
  {
   "cell_type": "code",
   "execution_count": 7,
   "id": "eb4cef7a",
   "metadata": {},
   "outputs": [],
   "source": [
    "# how the image\n",
    "cv2.imshow(\"Img\", img)\n",
    "cv2.waitKey(0)\n",
    "cv2.destroyAllWindows()"
   ]
  },
  {
   "cell_type": "code",
   "execution_count": 8,
   "id": "f4cde395",
   "metadata": {},
   "outputs": [
    {
     "data": {
      "text/plain": [
       "\"THE BIG SLEEP\\nby Raymond Chandler\\n\\nIt was about eleven o'clock in the morning, mid October, with the sun not\\nshining and a look of hard wet rain in the clearness of the foothills. I was\\nwearing my powder-blue suit, with dark blue shirt, tie and display\\nhandkerchief, black brogues, black wool socks with dark blue clocks on\\nthem. I was neat, clean, shaved and sober, and I didn’t care who knew it. I\\nwas everything the well-dressed private detective ought to be. T was\\ncalling on four million dollars.\\n\\n‘The main hallway of the Sternwood place was two stories high. Over the\\nentrance doors, which would have let in a troop of Indian elephants, there\\n‘was a broad stained-glass panel showing a knight in dark armor rescuing\\n\""
      ]
     },
     "execution_count": 8,
     "metadata": {},
     "output_type": "execute_result"
    }
   ],
   "source": [
    "# Extract the text \n",
    "text = pytesseract.image_to_string(img)\n",
    "text"
   ]
  },
  {
   "cell_type": "markdown",
   "id": "64b1c934",
   "metadata": {},
   "source": [
    "###### Image preprocessing\n",
    "Here I preprocess a quality image before giving to ocr.\n",
    "Tasks that to be completed:\n",
    "* Resize the Image\n",
    "* Convert Image to grayscale\n",
    "* Convert image to black and white"
   ]
  },
  {
   "cell_type": "code",
   "execution_count": 10,
   "id": "c6273376",
   "metadata": {},
   "outputs": [],
   "source": [
    "img2 = cv2.imread(\"book_page.jpg\")"
   ]
  },
  {
   "cell_type": "code",
   "execution_count": 11,
   "id": "c26f4d83",
   "metadata": {},
   "outputs": [],
   "source": [
    "cv2.imshow(\"Image2\", img2)\n",
    "cv2.waitKey(0)\n",
    "cv2.destroyAllWindows()"
   ]
  },
  {
   "cell_type": "code",
   "execution_count": 9,
   "id": "aa22aa94",
   "metadata": {},
   "outputs": [
    {
     "data": {
      "text/plain": [
       "'Design before you implement\\n\\nparticolasly if the project involves designing a product or service, ensure\\n\\na bave the best possible answer in the design phase before you start\\nimplementation: Another 80/20 rule says that 20 per cent of the prob-\\n\\nJems with any design project cause 80 per cent of the costs or overruns;\\nfe\\n\\n4 that 80 per cent of these critical problems arise in the design phase\\nni ‘ = :\\n\\n2 are hugely expensive to correct later, requiring massive rework and\\nas :\\n\\nin some cases retooling.\\n\\ni\\n\\n'"
      ]
     },
     "execution_count": 9,
     "metadata": {},
     "output_type": "execute_result"
    }
   ],
   "source": [
    "text = pytesseract.image_to_string(img2)\n",
    "text"
   ]
  },
  {
   "cell_type": "markdown",
   "id": "76e55e18",
   "metadata": {},
   "source": [
    "###### Resize the Image\n",
    "pytesseract does not work well with big image.So it is better to resize it for getting the maximum resolutions. So text will be easy to read."
   ]
  },
  {
   "cell_type": "code",
   "execution_count": 12,
   "id": "cffb0eff",
   "metadata": {},
   "outputs": [],
   "source": [
    "img2 = cv2.resize(img2, None, fx=0.5, fy=0.5, interpolation = cv2.INTER_AREA)\n",
    "#img2 = cv2.resize(img2, (img2.shape[1]//2, img2.shape[0]//2), interpolation = cv2.INTER_AREA)"
   ]
  },
  {
   "cell_type": "markdown",
   "id": "0b374cf6",
   "metadata": {},
   "source": [
    "###### Convert Image to Grayscale\n",
    "Here the text extraction is important, colors are not. In grayscale image text is easy to identify."
   ]
  },
  {
   "cell_type": "code",
   "execution_count": 35,
   "id": "d169196c",
   "metadata": {},
   "outputs": [],
   "source": [
    "img_gray = cv2.cvtColor(img2, cv2.COLOR_BGR2GRAY)"
   ]
  },
  {
   "cell_type": "markdown",
   "id": "c79eeb04",
   "metadata": {},
   "source": [
    "###### Convert image to black and white (using adaptive threshold)\n",
    "There are two types of thresholding, Such as, Simple thresholding and adative thresholding.  \n",
    "* In Simple thresholding, the thresholding value is global, such as it is same for all the pixels in the image. Here pixel above threshold value would be white, pixel below that value would be black. sample of simple thresholding _, threshold = cv2.threshold(img, 155, 255, cv2.THRESH_BINARY)\n",
    "\n",
    "* Adaptive thresholding is the method where the threshold value is calculated for the smaller regions and therefore, there will be different optimal threshold values for different regions. The addaptive threshold works only in greyscale images. \n",
    "\n",
    "###### adaptiveThreshold(src, maxValue, adaptiveMethod, thresholdType, blockSize, C)\n",
    "* src  = Source of the Image\n",
    "* maxValue = A value that is to be applied if the pixel value is more than the threshold value.\n",
    "* adaptiveMethod = There are two types of method. 1 ) ADAPTIVE_THRESH_MEAN_C  2) ADAPTIVE_THRESH_GAUSSAIN_C\n",
    "* thresholdType = Type of the threshold to be used like (THRESH_BINARY)\n",
    "* blockSize = Representing size of the pixelneighborhood used to calculate the threshold value.\n",
    "* C = representing the constant used in the both methods (subtracted from the mean or weighted mean)"
   ]
  },
  {
   "cell_type": "code",
   "execution_count": 20,
   "id": "b6cce5ee",
   "metadata": {},
   "outputs": [],
   "source": [
    "_, simple_thresholding = cv2.threshold(img2, 155, 255, cv2.THRESH_BINARY)\n",
    "cv2.imshow(\"Simple thresholding\", simple_thresholding)\n",
    "cv2.waitKey(0)\n",
    "cv2.destroyAllWindows()"
   ]
  },
  {
   "cell_type": "code",
   "execution_count": 32,
   "id": "f3a85782",
   "metadata": {},
   "outputs": [],
   "source": [
    "adaptive_thresh_mean_c = cv2.adaptiveThreshold(img_gray, 255, cv2.ADAPTIVE_THRESH_MEAN_C, cv2.THRESH_BINARY, 51, 20)\n",
    "cv2.imshow(\"Adaptive thresholding mean c \", adaptive_thresh_mean_c)\n",
    "cv2.waitKey(0)\n",
    "cv2.destroyAllWindows()"
   ]
  },
  {
   "cell_type": "code",
   "execution_count": 25,
   "id": "97e7f1fc",
   "metadata": {},
   "outputs": [],
   "source": [
    "adap_thresh_gaussain_c = cv2.adaptiveThreshold(img_gray, 255, cv2.ADAPTIVE_THRESH_GAUSSIAN_C, cv2.THRESH_BINARY,91, 12)\n",
    "cv2.imshow(\"Adaptive thresholding gaussain c\", adap_thresh_gaussain_c)\n",
    "cv2.waitKey(0)\n",
    "cv2.destroyAllWindows()"
   ]
  },
  {
   "cell_type": "code",
   "execution_count": 33,
   "id": "a581ca7d",
   "metadata": {},
   "outputs": [
    {
     "data": {
      "text/plain": [
       "'Designs before you implement\\n\\nsf che project ivolves designing produc ot service, cose\\nresin yrs pomblesoawer inthe dein phe below you sar\\nwe \"Another 80/20 rule sya that 20 per cent of the prsb-\\nrreany design project cae OD pr cent of the cu rei,\\nes wg pe crak of thse cra probs arse inthe devign phe\\ney caer crete eng ae reve and\\n\\nproms ose\\n\\n“3\\n\\nee\\nGit:\\n\\nvd,\\n\\n'"
      ]
     },
     "execution_count": 33,
     "metadata": {},
     "output_type": "execute_result"
    }
   ],
   "source": [
    "text = pytesseract.image_to_string(adap_thresh_gaussain_c)\n",
    "text"
   ]
  },
  {
   "cell_type": "code",
   "execution_count": 34,
   "id": "defc19ae",
   "metadata": {},
   "outputs": [
    {
     "data": {
      "text/plain": [
       "'Design\\nign before you implement\\n\\nerent fe projet inva d\\neae igning a product or servic\\n\\nMe bet posible a\\n\\nity an oe eon peo Perce ep\\n\\nwe eat 0 per cent of pecomaced to ocr cy\\n\\nron Pc aed goin the cous over\\n\\naod aE rgely expensive to correc lt ms ase the desi se\\n\\nJp vome cases x00 eng ase ee ina\\nre ework and\\n\\n'"
      ]
     },
     "execution_count": 34,
     "metadata": {},
     "output_type": "execute_result"
    }
   ],
   "source": [
    "text = pytesseract.image_to_string(img2)\n",
    "text"
   ]
  },
  {
   "cell_type": "code",
   "execution_count": 77,
   "id": "411bb167",
   "metadata": {},
   "outputs": [],
   "source": []
  },
  {
   "cell_type": "code",
   "execution_count": null,
   "id": "5b4a3430",
   "metadata": {},
   "outputs": [],
   "source": []
  },
  {
   "cell_type": "code",
   "execution_count": null,
   "id": "e70c87cb",
   "metadata": {},
   "outputs": [],
   "source": []
  },
  {
   "cell_type": "code",
   "execution_count": null,
   "id": "316abbdb",
   "metadata": {},
   "outputs": [],
   "source": []
  },
  {
   "cell_type": "code",
   "execution_count": null,
   "id": "9131ea55",
   "metadata": {},
   "outputs": [],
   "source": []
  },
  {
   "cell_type": "code",
   "execution_count": null,
   "id": "1cf516e9",
   "metadata": {},
   "outputs": [],
   "source": []
  },
  {
   "cell_type": "code",
   "execution_count": null,
   "id": "91ff22a9",
   "metadata": {},
   "outputs": [],
   "source": []
  },
  {
   "cell_type": "code",
   "execution_count": null,
   "id": "5e43ab2b",
   "metadata": {},
   "outputs": [],
   "source": []
  },
  {
   "cell_type": "code",
   "execution_count": null,
   "id": "cd95b7dc",
   "metadata": {},
   "outputs": [],
   "source": []
  },
  {
   "cell_type": "code",
   "execution_count": null,
   "id": "edca6870",
   "metadata": {},
   "outputs": [],
   "source": []
  },
  {
   "cell_type": "code",
   "execution_count": null,
   "id": "39475c9f",
   "metadata": {},
   "outputs": [],
   "source": []
  },
  {
   "cell_type": "code",
   "execution_count": null,
   "id": "cc74f83b",
   "metadata": {},
   "outputs": [],
   "source": []
  },
  {
   "cell_type": "code",
   "execution_count": null,
   "id": "b52760c0",
   "metadata": {},
   "outputs": [],
   "source": []
  },
  {
   "cell_type": "code",
   "execution_count": null,
   "id": "34c0a657",
   "metadata": {},
   "outputs": [],
   "source": []
  },
  {
   "cell_type": "code",
   "execution_count": null,
   "id": "9f7d6e94",
   "metadata": {},
   "outputs": [],
   "source": []
  },
  {
   "cell_type": "code",
   "execution_count": null,
   "id": "21ce80a1",
   "metadata": {},
   "outputs": [],
   "source": []
  },
  {
   "cell_type": "code",
   "execution_count": null,
   "id": "d552a8f8",
   "metadata": {},
   "outputs": [],
   "source": []
  },
  {
   "cell_type": "code",
   "execution_count": null,
   "id": "372d349b",
   "metadata": {},
   "outputs": [],
   "source": []
  },
  {
   "cell_type": "code",
   "execution_count": null,
   "id": "ce17a013",
   "metadata": {},
   "outputs": [],
   "source": []
  },
  {
   "cell_type": "code",
   "execution_count": null,
   "id": "aef4a91b",
   "metadata": {},
   "outputs": [],
   "source": []
  },
  {
   "cell_type": "code",
   "execution_count": null,
   "id": "8f88e9ce",
   "metadata": {},
   "outputs": [],
   "source": []
  },
  {
   "cell_type": "code",
   "execution_count": null,
   "id": "b1b4b795",
   "metadata": {},
   "outputs": [],
   "source": []
  },
  {
   "cell_type": "code",
   "execution_count": null,
   "id": "e3753b8a",
   "metadata": {},
   "outputs": [],
   "source": []
  },
  {
   "cell_type": "code",
   "execution_count": null,
   "id": "9329a6b1",
   "metadata": {},
   "outputs": [],
   "source": []
  },
  {
   "cell_type": "code",
   "execution_count": null,
   "id": "0a311195",
   "metadata": {},
   "outputs": [],
   "source": []
  },
  {
   "cell_type": "code",
   "execution_count": null,
   "id": "1709ae70",
   "metadata": {},
   "outputs": [],
   "source": []
  },
  {
   "cell_type": "code",
   "execution_count": null,
   "id": "e48daa8b",
   "metadata": {},
   "outputs": [],
   "source": []
  },
  {
   "cell_type": "code",
   "execution_count": null,
   "id": "7dfe72a2",
   "metadata": {},
   "outputs": [],
   "source": []
  }
 ],
 "metadata": {
  "kernelspec": {
   "display_name": "Python 3",
   "language": "python",
   "name": "python3"
  },
  "language_info": {
   "codemirror_mode": {
    "name": "ipython",
    "version": 3
   },
   "file_extension": ".py",
   "mimetype": "text/x-python",
   "name": "python",
   "nbconvert_exporter": "python",
   "pygments_lexer": "ipython3",
   "version": "3.8.8"
  }
 },
 "nbformat": 4,
 "nbformat_minor": 5
}
